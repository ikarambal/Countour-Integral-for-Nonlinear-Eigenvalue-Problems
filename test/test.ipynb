{
 "cells": [
  {
   "cell_type": "code",
   "execution_count": 1,
   "metadata": {},
   "outputs": [],
   "source": [
    "import nlevp as evp\n",
    "import numpy as np\n",
    "import matplotlib.pyplot as plt"
   ]
  },
  {
   "cell_type": "markdown",
   "metadata": {},
   "source": [
    "Let consider a Cardiod as countour given by \n",
    "$$\\phi(t)=2a(1-cos(t))e^{it}$$\n",
    "and find eigenvalues of $z\\mapsto T(z)=z^2M+zC+K\\in \\mathbb{C}^{4\\times 4}$, where $M, C, K$ are defined below<br>\n",
    "$T$ has $8$ eigenvalues (see https://www.mathworks.com/help/matlab/ref/polyeig.html). In our contour, we were able to locate $4$ when $a=1$"
   ]
  },
  {
   "cell_type": "code",
   "execution_count": 2,
   "metadata": {},
   "outputs": [],
   "source": [
    "def Mfunc(z):\n",
    "    M = np.diag(np.array((3,1,3,1)))\n",
    "    C = np.array([[0.4,0,-0.3,0], [0,0,0,0],[-0.3,0,0.5,-0.2],[0,0,-0.2,0.2]])\n",
    "    K = np.array([[-7 ,2, 4,  0], [2 ,-4, 2, 0], [4, 2, -9, 3], [0, 0, 3, -3]])\n",
    "    return (z**2)*M+z*C+K\n",
    "cfunc = lambda t: 2*a*(1-np.cos(t))*np.exp(1j*t)\n",
    "Dcfunc = lambda t: 2*a*(np.sin(t)*np.exp(1j*t)+1j*np.exp(1j*t)*(1-np.cos(t)))\n",
    "#constants\n",
    "m = 4\n",
    "N = 100\n",
    "K = 4\n",
    "l = 4\n",
    "a = 1\n",
    "solver = evp.nnlinear_holom_eigs_solver(m, N, l, K, Mfunc, cfunc, Dcfunc, rankTol=1e-4, resTol=1e-6)\n",
    "e, v = solver.eigvals()"
   ]
  },
  {
   "cell_type": "code",
   "execution_count": 3,
   "metadata": {},
   "outputs": [
    {
     "data": {
      "image/png": "[encoded data removed]",
      "text/plain": [
       "<Figure size 432x288 with 1 Axes>"
      ]
     },
     "metadata": {
      "needs_background": "light"
     },
     "output_type": "display_data"
    }
   ],
   "source": [
    "t = np.linspace(0, 2*np.pi, 400, endpoint=True)\n",
    "s = cfunc(t)\n",
    "x = s.real \n",
    "y = s.imag\n",
    "plt.figure()\n",
    "plt.plot(x, y)\n",
    "plt.plot(e.real, e.imag, 'bo', markersize=6)\n",
    "plt.grid('on')\n",
    "plt.show()"
   ]
  },
  {
   "cell_type": "code",
   "execution_count": 4,
   "metadata": {},
   "outputs": [
    {
     "data": {
      "text/plain": [
       "array([-2.44984944+3.75720930e-17j, -2.1536162 -1.40559239e-15j,\n",
       "       -1.62477834-4.83102278e-16j, -0.34655157-2.07993676e-16j])"
      ]
     },
     "execution_count": 4,
     "metadata": {},
     "output_type": "execute_result"
    }
   ],
   "source": [
    "#print eigenvalues. a=1 return all negative eigenvalues\n",
    "e"
   ]
  },
  {
   "cell_type": "code",
   "execution_count": 5,
   "metadata": {},
   "outputs": [
    {
     "data": {
      "text/plain": [
       "array([0.33529473-1.53328656e-16j, 2.22790873+2.61417804e-16j,\n",
       "       2.03635098-5.53749747e-16j, 1.47524114-6.62461504e-17j])"
      ]
     },
     "execution_count": 5,
     "metadata": {},
     "output_type": "execute_result"
    }
   ],
   "source": [
    "#a=-1 return all positive eigenvalues\n",
    "a = -1\n",
    "solver = evp.nnlinear_holom_eigs_solver(m, N, l, K, Mfunc, cfunc, Dcfunc, rankTol=1e-4, resTol=1e-6)\n",
    "e, v = solver.eigvals()\n",
    "e"
   ]
  },
  {
   "cell_type": "code",
   "execution_count": null,
   "metadata": {},
   "outputs": [],
   "source": []
  }
 ],
 "metadata": {
  "kernelspec": {
   "display_name": "Python 3",
   "language": "python",
   "name": "python3"
  },
  "language_info": {
   "codemirror_mode": {
    "name": "ipython",
    "version": 3
   },
   "file_extension": ".py",
   "mimetype": "text/x-python",
   "name": "python",
   "nbconvert_exporter": "python",
   "pygments_lexer": "ipython3",
   "version": "3.7.6"
  }
 },
 "nbformat": 4,
 "nbformat_minor": 4
}
